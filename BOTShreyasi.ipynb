{
  "nbformat": 4,
  "nbformat_minor": 0,
  "metadata": {
    "colab": {
      "provenance": []
    },
    "kernelspec": {
      "name": "python3",
      "display_name": "Python 3"
    },
    "language_info": {
      "name": "python"
    }
  },
  "cells": [
    {
      "cell_type": "code",
      "execution_count": 4,
      "metadata": {
        "colab": {
          "base_uri": "https://localhost:8080/"
        },
        "id": "pnx7jdqNEt88",
        "outputId": "5ea1989b-2898-4f71-e0c4-478b0ab1fc0d"
      },
      "outputs": [
        {
          "output_type": "stream",
          "name": "stdout",
          "text": [
            "Ënter the number of weather records: 3\n",
            "Enter city name: New York\n",
            "Enter temperature for New York: 22\n",
            "Enter humidity for New York: 60\n",
            "Enter city name: Los Angels\n",
            "Enter temperature for Los Angels: 28\n",
            "Enter humidity for Los Angels: 50\n",
            "Enter city name: India\n",
            "Enter temperature for India: 24\n",
            "Enter humidity for India: 55\n",
            "{'city': 'New York', 'avg_temp': 22.0, 'avg_humidity': 60.0}\n",
            "{'city': 'Los Angels', 'avg_temp': 28.0, 'avg_humidity': 50.0}\n",
            "{'city': 'India', 'avg_temp': 24.0, 'avg_humidity': 55.0}\n"
          ]
        }
      ],
      "source": [
        "def aggregate_weather_data():\n",
        "  city_data={}\n",
        "  num_records = int(input(\"Ënter the number of weather records: \"))\n",
        "  for _ in range(num_records):\n",
        "    city = input(\"Enter city name: \")\n",
        "    if city not in city_data:\n",
        "      city_data[city] = {'temp_sum': 0, 'temp_count': 0, 'humidity_sum': 0, 'humidity_count': 0}\n",
        "      temp_input = input(f\"Enter temperature for {city}: \")\n",
        "      if temp_input:\n",
        "        temp = float(temp_input)\n",
        "        city_data[city]['temp_sum'] += temp\n",
        "        city_data[city]['temp_count'] += 1\n",
        "      humidity_input = input(f\"Enter humidity for {city}: \")\n",
        "      if humidity_input:\n",
        "        humidity = float(humidity_input)\n",
        "        city_data[city]['humidity_sum'] += humidity\n",
        "        city_data[city]['humidity_count'] += 1\n",
        "  result = []\n",
        "  for city in city_data:\n",
        "    data = city_data[city]\n",
        "    if data['temp_count']>0:\n",
        "      avg_temp = data['temp_sum'] / data['temp_count']\n",
        "    else:\n",
        "      avg_temp = None\n",
        "    if data['humidity_count']>0:\n",
        "      avg_humidity = data['humidity_sum'] / data['humidity_count']\n",
        "    else:\n",
        "      avg_humidity = None\n",
        "    result.append({'city':city, 'avg_temp':avg_temp, 'avg_humidity':avg_humidity})\n",
        "  for data in result:\n",
        "    print(data)\n",
        "aggregate_weather_data()\n",
        "\n"
      ]
    },
    {
      "cell_type": "code",
      "source": [
        "def prime_factorization(n):\n",
        "  factors = []\n",
        "  divisor = 2\n",
        "  count = 0\n",
        "  while n % divisor == 0:\n",
        "    n //= divisor\n",
        "    count += 1\n",
        "  if count > 0:\n",
        "    factors.append((divisor, count))\n",
        "  divisor = 3\n",
        "  while n > 1:\n",
        "    count = 0\n",
        "    while n > 1:\n",
        "      count = 0\n",
        "      while n % divisor == 0:\n",
        "        n //= divisor\n",
        "        count += 1\n",
        "      if count > 0:\n",
        "        factors.append((divisor, count))\n",
        "      divisor += 2\n",
        "    return factors\n",
        "if __name__ == \"__main__\":\n",
        "  try:\n",
        "    number = int(input(\"Enter an integer greater than 1: \"))\n",
        "    if number <= 1:\n",
        "      raise ValueError\n",
        "    result = prime_factorization(number)\n",
        "    print(f\"Prime factorization of {number}: {result}\")\n",
        "  except ValueError:\n",
        "    print(\"Invalid input. Please enter an integer greater than 1.\")\n",
        "\n",
        ""
      ],
      "metadata": {
        "colab": {
          "base_uri": "https://localhost:8080/"
        },
        "id": "3qK8teMIHL9z",
        "outputId": "026440bb-da1a-412f-ae86-148fb5f8ba1b"
      },
      "execution_count": 6,
      "outputs": [
        {
          "output_type": "stream",
          "name": "stdout",
          "text": [
            "Enter an integer greater than 1: 60\n",
            "Prime factorization of 60: [(2, 2), (3, 1), (5, 1)]\n"
          ]
        }
      ]
    },
    {
      "cell_type": "code",
      "source": [
        "!apt-get install sqlite3\n"
      ],
      "metadata": {
        "colab": {
          "base_uri": "https://localhost:8080/"
        },
        "id": "D0tra38EPxkK",
        "outputId": "b3e8410c-e80c-4af0-9f1b-919abf9d80d4"
      },
      "execution_count": 9,
      "outputs": [
        {
          "output_type": "stream",
          "name": "stdout",
          "text": [
            "Reading package lists... Done\n",
            "Building dependency tree... Done\n",
            "Reading state information... Done\n",
            "Suggested packages:\n",
            "  sqlite3-doc\n",
            "The following NEW packages will be installed:\n",
            "  sqlite3\n",
            "0 upgraded, 1 newly installed, 0 to remove and 49 not upgraded.\n",
            "Need to get 768 kB of archives.\n",
            "After this operation, 1,873 kB of additional disk space will be used.\n",
            "Get:1 http://archive.ubuntu.com/ubuntu jammy-updates/main amd64 sqlite3 amd64 3.37.2-2ubuntu0.3 [768 kB]\n",
            "Fetched 768 kB in 1s (720 kB/s)\n",
            "Selecting previously unselected package sqlite3.\n",
            "(Reading database ... 123629 files and directories currently installed.)\n",
            "Preparing to unpack .../sqlite3_3.37.2-2ubuntu0.3_amd64.deb ...\n",
            "Unpacking sqlite3 (3.37.2-2ubuntu0.3) ...\n",
            "Setting up sqlite3 (3.37.2-2ubuntu0.3) ...\n",
            "Processing triggers for man-db (2.10.2-1) ...\n"
          ]
        }
      ]
    },
    {
      "cell_type": "code",
      "source": [
        "import sqlite3\n",
        "conn = sqlite3.connect(':memory:')\n",
        "cursor = conn.cursor()\n",
        "cursor.execute('''\n",
        "  CREATE TABLE products (\n",
        "    id INTEGER PRIMARY KEY,\n",
        "    name TEXT,\n",
        "    price REAL\n",
        "    );\n",
        "  ''')\n",
        "cursor.executemany('''\n",
        "  INSERT INTO products (name, price)\n",
        "  VALUES (?, ?)\n",
        "''', [\n",
        "    ('Product A', 10.00),\n",
        "    ('Product B', 20.00),\n",
        "    ('Product C', 30.00),\n",
        "])\n",
        "conn.commit()\n",
        "cursor.execute('''\n",
        "  SELECT\n",
        "    name,\n",
        "    price * 1.10 AS new_price\n",
        "  FROM\n",
        "    products\n",
        "''')\n",
        "rows = cursor.fetchall()\n",
        "for row in rows:\n",
        "  print(f\"Product: {row[0]}, New Price: {row[1]:.2f}\")\n",
        "cursor.execute('''\n",
        "  UPDATE products\n",
        "  SET price = price * 1.10\n",
        "''')\n",
        "conn.commit()\n",
        "cursor.execute('SELECT name, price FROM products')\n",
        "rows = cursor.fetchall()\n",
        "for row in rows:\n",
        "  print(f\"Product: {row[0]}, Updated Price: {row[1]:.2f}\")\n",
        "conn.close()\n"
      ],
      "metadata": {
        "colab": {
          "base_uri": "https://localhost:8080/"
        },
        "id": "cV2FIYf3Q5Bc",
        "outputId": "d8dc9a38-5b81-4251-a16d-bf0d2fa79a20"
      },
      "execution_count": 16,
      "outputs": [
        {
          "output_type": "stream",
          "name": "stdout",
          "text": [
            "Product: Product A, New Price: 11.00\n",
            "Product: Product B, New Price: 22.00\n",
            "Product: Product C, New Price: 33.00\n",
            "Product: Product A, Updated Price: 11.00\n",
            "Product: Product B, Updated Price: 22.00\n",
            "Product: Product C, Updated Price: 33.00\n"
          ]
        }
      ]
    }
  ]
}